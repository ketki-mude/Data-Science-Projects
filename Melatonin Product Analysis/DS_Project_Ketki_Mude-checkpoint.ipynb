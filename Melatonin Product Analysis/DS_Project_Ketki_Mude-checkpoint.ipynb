{
 "cells": [
  {
   "cell_type": "code",
   "execution_count": 83,
   "id": "fc8847e0-5993-4c72-af7a-3a19a41deb3e",
   "metadata": {
    "tags": []
   },
   "outputs": [],
   "source": [
    "import pandas as pd\n",
    "import numpy as np\n",
    "from nltk.corpus import stopwords\n",
    "from nltk.tokenize import word_tokenize\n",
    "from collections import Counter"
   ]
  },
  {
   "cell_type": "code",
   "execution_count": 84,
   "id": "2cb93050-2449-4051-8ba7-509a36e2a466",
   "metadata": {
    "tags": []
   },
   "outputs": [],
   "source": [
    "sleepAidGummies = pd.read_csv(\"B07N46LTJJ_ZzzQuilPureZzzsMelatoninSleepAidGummies-2mg.csv\", encoding = \"ISO-8859-1\")\n",
    "# sleepAidGummies.head()"
   ]
  },
  {
   "cell_type": "code",
   "execution_count": 85,
   "id": "a48ce62d-d3b5-430d-b512-7e48b5f2c733",
   "metadata": {
    "tags": []
   },
   "outputs": [],
   "source": [
    "def extract_dose_from_title(title):\n",
    "    parts = title.split()  # Split the title into parts by space\n",
    "    for i, part in enumerate(parts):\n",
    "        # Check if 'mg' is in this part\n",
    "        if 'mg' in part.lower():\n",
    "            # Attempt to extract numeric part from the same segment\n",
    "            num_part = ''.join(filter(str.isdigit, part))\n",
    "            if num_part:  # If digits are found, return with 'mg'\n",
    "                return num_part + 'mg'\n",
    "            elif i > 0 and parts[i-1].isdigit():\n",
    "                # If no digits in this segment, check the previous segment\n",
    "                return parts[i-1] + 'mg'\n",
    "    return 'Unknown'  # If no dosage is found, return 'Unknown'\n",
    "sleepAidGummies['dose'] = sleepAidGummies['product_title'].apply(extract_dose_from_title)"
   ]
  },
  {
   "cell_type": "code",
   "execution_count": 86,
   "id": "d25fe3fb-9262-443d-93a1-e2131086d8a8",
   "metadata": {
    "tags": []
   },
   "outputs": [
    {
     "data": {
      "text/html": [
       "<div>\n",
       "<style scoped>\n",
       "    .dataframe tbody tr th:only-of-type {\n",
       "        vertical-align: middle;\n",
       "    }\n",
       "\n",
       "    .dataframe tbody tr th {\n",
       "        vertical-align: top;\n",
       "    }\n",
       "\n",
       "    .dataframe thead th {\n",
       "        text-align: right;\n",
       "    }\n",
       "</style>\n",
       "<table border=\"1\" class=\"dataframe\">\n",
       "  <thead>\n",
       "    <tr style=\"text-align: right;\">\n",
       "      <th></th>\n",
       "      <th>product_title</th>\n",
       "      <th>dose</th>\n",
       "    </tr>\n",
       "  </thead>\n",
       "  <tbody>\n",
       "    <tr>\n",
       "      <th>0</th>\n",
       "      <td>ZzzQuil Pure Zzzs Melatonin Sleep Aid Gummies,...</td>\n",
       "      <td>1mg</td>\n",
       "    </tr>\n",
       "    <tr>\n",
       "      <th>1</th>\n",
       "      <td>ZzzQuil Pure Zzzs Melatonin Sleep Aid Gummies,...</td>\n",
       "      <td>1mg</td>\n",
       "    </tr>\n",
       "    <tr>\n",
       "      <th>2</th>\n",
       "      <td>ZzzQuil Pure Zzzs Melatonin Sleep Aid Gummies,...</td>\n",
       "      <td>1mg</td>\n",
       "    </tr>\n",
       "    <tr>\n",
       "      <th>3</th>\n",
       "      <td>ZzzQuil Pure Zzzs Melatonin Sleep Aid Gummies,...</td>\n",
       "      <td>1mg</td>\n",
       "    </tr>\n",
       "    <tr>\n",
       "      <th>4</th>\n",
       "      <td>ZzzQuil Pure Zzzs Melatonin Sleep Aid Gummies,...</td>\n",
       "      <td>1mg</td>\n",
       "    </tr>\n",
       "  </tbody>\n",
       "</table>\n",
       "</div>"
      ],
      "text/plain": [
       "                                       product_title dose\n",
       "0  ZzzQuil Pure Zzzs Melatonin Sleep Aid Gummies,...  1mg\n",
       "1  ZzzQuil Pure Zzzs Melatonin Sleep Aid Gummies,...  1mg\n",
       "2  ZzzQuil Pure Zzzs Melatonin Sleep Aid Gummies,...  1mg\n",
       "3  ZzzQuil Pure Zzzs Melatonin Sleep Aid Gummies,...  1mg\n",
       "4  ZzzQuil Pure Zzzs Melatonin Sleep Aid Gummies,...  1mg"
      ]
     },
     "execution_count": 86,
     "metadata": {},
     "output_type": "execute_result"
    }
   ],
   "source": [
    "sleepAidGummies[['product_title', 'dose']].head()"
   ]
  },
  {
   "cell_type": "code",
   "execution_count": 88,
   "id": "c36b6bd1-296b-4f8d-94ae-987241329718",
   "metadata": {
    "tags": []
   },
   "outputs": [],
   "source": [
    "melatoningummy = pd.read_csv(\"B07PF1SN5B_vitafusionMaxStrengthMelatoninGummySupplements-10mg.csv\", encoding = \"ISO-8859-1\")\n",
    "# melatoningummy.head()"
   ]
  },
  {
   "cell_type": "code",
   "execution_count": 90,
   "id": "0eb0d860-f346-4fc6-97a9-8651a7c7f287",
   "metadata": {
    "tags": []
   },
   "outputs": [],
   "source": [
    "def extract_dose_from_title(title):\n",
    "    parts = title.split()  # Split the title into parts by space\n",
    "    for i, part in enumerate(parts):\n",
    "        # Check if 'mg' is in this part\n",
    "        if 'mg' in part.lower():\n",
    "            # Attempt to extract numeric part from the same segment\n",
    "            num_part = ''.join(filter(str.isdigit, part))\n",
    "            if num_part:  # If digits are found, return with 'mg'\n",
    "                return num_part + 'mg'\n",
    "            elif i > 0 and parts[i-1].isdigit():\n",
    "                # If no digits in this segment, check the previous segment\n",
    "                return parts[i-1] + 'mg'\n",
    "    return 'Unknown'  # If no dosage is found, return 'Unknown'\n",
    "melatoningummy['dose'] = melatoningummy['product_title'].apply(extract_dose_from_title)"
   ]
  },
  {
   "cell_type": "code",
   "execution_count": 91,
   "id": "3dca3d1f-2982-482a-892e-e8e9cfd42c37",
   "metadata": {
    "tags": []
   },
   "outputs": [
    {
     "data": {
      "text/html": [
       "<div>\n",
       "<style scoped>\n",
       "    .dataframe tbody tr th:only-of-type {\n",
       "        vertical-align: middle;\n",
       "    }\n",
       "\n",
       "    .dataframe tbody tr th {\n",
       "        vertical-align: top;\n",
       "    }\n",
       "\n",
       "    .dataframe thead th {\n",
       "        text-align: right;\n",
       "    }\n",
       "</style>\n",
       "<table border=\"1\" class=\"dataframe\">\n",
       "  <thead>\n",
       "    <tr style=\"text-align: right;\">\n",
       "      <th></th>\n",
       "      <th>product_title</th>\n",
       "      <th>dose</th>\n",
       "    </tr>\n",
       "  </thead>\n",
       "  <tbody>\n",
       "    <tr>\n",
       "      <th>0</th>\n",
       "      <td>vitafusion Max Strength Melatonin Gummy Supple...</td>\n",
       "      <td>10mg</td>\n",
       "    </tr>\n",
       "    <tr>\n",
       "      <th>1</th>\n",
       "      <td>vitafusion Max Strength Melatonin Gummy Supple...</td>\n",
       "      <td>10mg</td>\n",
       "    </tr>\n",
       "    <tr>\n",
       "      <th>2</th>\n",
       "      <td>vitafusion Max Strength Melatonin Gummy Supple...</td>\n",
       "      <td>10mg</td>\n",
       "    </tr>\n",
       "    <tr>\n",
       "      <th>3</th>\n",
       "      <td>vitafusion Max Strength Melatonin Gummy Supple...</td>\n",
       "      <td>10mg</td>\n",
       "    </tr>\n",
       "    <tr>\n",
       "      <th>4</th>\n",
       "      <td>vitafusion Max Strength Melatonin Gummy Supple...</td>\n",
       "      <td>10mg</td>\n",
       "    </tr>\n",
       "  </tbody>\n",
       "</table>\n",
       "</div>"
      ],
      "text/plain": [
       "                                       product_title  dose\n",
       "0  vitafusion Max Strength Melatonin Gummy Supple...  10mg\n",
       "1  vitafusion Max Strength Melatonin Gummy Supple...  10mg\n",
       "2  vitafusion Max Strength Melatonin Gummy Supple...  10mg\n",
       "3  vitafusion Max Strength Melatonin Gummy Supple...  10mg\n",
       "4  vitafusion Max Strength Melatonin Gummy Supple...  10mg"
      ]
     },
     "execution_count": 91,
     "metadata": {},
     "output_type": "execute_result"
    }
   ],
   "source": [
    "melatoningummy[['product_title', 'dose']].head()"
   ]
  },
  {
   "cell_type": "code",
   "execution_count": 92,
   "id": "1ae06ddb-99f2-4f33-926c-fdc83fd92a46",
   "metadata": {
    "tags": []
   },
   "outputs": [],
   "source": [
    "vitamaticMelatonin = pd.read_csv(\"B08CGYFB2Q_VitamaticMelatonin20mgTablets.csv\", encoding = \"ISO-8859-1\")\n",
    "# vitamaticMelatonin.head()"
   ]
  },
  {
   "cell_type": "code",
   "execution_count": 93,
   "id": "48301633-ddb4-46c2-9ea1-aaf3a4363db2",
   "metadata": {
    "tags": []
   },
   "outputs": [],
   "source": [
    "def extract_dose_from_title(title):\n",
    "    parts = title.split()  # Split the title into parts by space\n",
    "    for i, part in enumerate(parts):\n",
    "        # Check if 'mg' is in this part\n",
    "        if 'mg' in part.lower():\n",
    "            # Attempt to extract numeric part from the same segment\n",
    "            num_part = ''.join(filter(str.isdigit, part))\n",
    "            if num_part:  # If digits are found, return with 'mg'\n",
    "                return num_part + 'mg'\n",
    "            elif i > 0 and parts[i-1].isdigit():\n",
    "                # If no digits in this segment, check the previous segment\n",
    "                return parts[i-1] + 'mg'\n",
    "    return 'Unknown'  # If no dosage is found, return 'Unknown'\n",
    "vitamaticMelatonin['dose'] = vitamaticMelatonin['product_title'].apply(extract_dose_from_title)"
   ]
  },
  {
   "cell_type": "code",
   "execution_count": 94,
   "id": "520e1d88-343d-4642-bf33-e2e29609081d",
   "metadata": {
    "tags": []
   },
   "outputs": [
    {
     "data": {
      "text/html": [
       "<div>\n",
       "<style scoped>\n",
       "    .dataframe tbody tr th:only-of-type {\n",
       "        vertical-align: middle;\n",
       "    }\n",
       "\n",
       "    .dataframe tbody tr th {\n",
       "        vertical-align: top;\n",
       "    }\n",
       "\n",
       "    .dataframe thead th {\n",
       "        text-align: right;\n",
       "    }\n",
       "</style>\n",
       "<table border=\"1\" class=\"dataframe\">\n",
       "  <thead>\n",
       "    <tr style=\"text-align: right;\">\n",
       "      <th></th>\n",
       "      <th>product_title</th>\n",
       "      <th>dose</th>\n",
       "    </tr>\n",
       "  </thead>\n",
       "  <tbody>\n",
       "    <tr>\n",
       "      <th>0</th>\n",
       "      <td>Vitamatic Melatonin 20mg Tablets | Vegetarian,...</td>\n",
       "      <td>20mg</td>\n",
       "    </tr>\n",
       "    <tr>\n",
       "      <th>1</th>\n",
       "      <td>Vitamatic Melatonin 20mg Tablets | Vegetarian,...</td>\n",
       "      <td>20mg</td>\n",
       "    </tr>\n",
       "    <tr>\n",
       "      <th>2</th>\n",
       "      <td>Vitamatic Melatonin 20mg Tablets | Vegetarian,...</td>\n",
       "      <td>20mg</td>\n",
       "    </tr>\n",
       "    <tr>\n",
       "      <th>3</th>\n",
       "      <td>Vitamatic Melatonin 20mg Tablets | Vegetarian,...</td>\n",
       "      <td>20mg</td>\n",
       "    </tr>\n",
       "    <tr>\n",
       "      <th>4</th>\n",
       "      <td>Vitamatic Melatonin 20mg Tablets | Vegetarian,...</td>\n",
       "      <td>20mg</td>\n",
       "    </tr>\n",
       "  </tbody>\n",
       "</table>\n",
       "</div>"
      ],
      "text/plain": [
       "                                       product_title  dose\n",
       "0  Vitamatic Melatonin 20mg Tablets | Vegetarian,...  20mg\n",
       "1  Vitamatic Melatonin 20mg Tablets | Vegetarian,...  20mg\n",
       "2  Vitamatic Melatonin 20mg Tablets | Vegetarian,...  20mg\n",
       "3  Vitamatic Melatonin 20mg Tablets | Vegetarian,...  20mg\n",
       "4  Vitamatic Melatonin 20mg Tablets | Vegetarian,...  20mg"
      ]
     },
     "execution_count": 94,
     "metadata": {},
     "output_type": "execute_result"
    }
   ],
   "source": [
    "vitamaticMelatonin[['product_title', 'dose']].head()"
   ]
  },
  {
   "cell_type": "code",
   "execution_count": 95,
   "id": "885a201f-af09-42a0-9251-98646ff2e523",
   "metadata": {
    "tags": []
   },
   "outputs": [],
   "source": [
    "NatrolSleepAidGummy = pd.read_csv(\"B079TD7HG2_NatrolMelatoninSleepAidGummy-10mg.csv\", encoding = \"ISO-8859-1\")\n",
    "# vitamaticMelatonin.head()"
   ]
  },
  {
   "cell_type": "code",
   "execution_count": 96,
   "id": "28e5cc9b-82f8-4ed6-8f38-a00c4bf0d05b",
   "metadata": {
    "tags": []
   },
   "outputs": [],
   "source": [
    "def extract_dose_from_title(title):\n",
    "    parts = title.split()  # Split the title into parts by space\n",
    "    for i, part in enumerate(parts):\n",
    "        # Check if 'mg' is in this part\n",
    "        if 'mg' in part.lower():\n",
    "            # Attempt to extract numeric part from the same segment\n",
    "            num_part = ''.join(filter(str.isdigit, part))\n",
    "            if num_part:  # If digits are found, return with 'mg'\n",
    "                return num_part + 'mg'\n",
    "            elif i > 0 and parts[i-1].isdigit():\n",
    "                # If no digits in this segment, check the previous segment\n",
    "                return parts[i-1] + 'mg'\n",
    "    return 'Unknown'  # If no dosage is found, return 'Unknown'\n",
    "NatrolSleepAidGummy['dose'] = NatrolSleepAidGummy['product_title'].apply(extract_dose_from_title)"
   ]
  },
  {
   "cell_type": "code",
   "execution_count": 97,
   "id": "119733a7-df7b-4bda-b70d-a5eb262a795f",
   "metadata": {
    "tags": []
   },
   "outputs": [
    {
     "data": {
      "text/html": [
       "<div>\n",
       "<style scoped>\n",
       "    .dataframe tbody tr th:only-of-type {\n",
       "        vertical-align: middle;\n",
       "    }\n",
       "\n",
       "    .dataframe tbody tr th {\n",
       "        vertical-align: top;\n",
       "    }\n",
       "\n",
       "    .dataframe thead th {\n",
       "        text-align: right;\n",
       "    }\n",
       "</style>\n",
       "<table border=\"1\" class=\"dataframe\">\n",
       "  <thead>\n",
       "    <tr style=\"text-align: right;\">\n",
       "      <th></th>\n",
       "      <th>product_title</th>\n",
       "      <th>dose</th>\n",
       "    </tr>\n",
       "  </thead>\n",
       "  <tbody>\n",
       "    <tr>\n",
       "      <th>0</th>\n",
       "      <td>Natrol Melatonin Sleep Aid Gummy, Fall Asleep ...</td>\n",
       "      <td>10mg</td>\n",
       "    </tr>\n",
       "    <tr>\n",
       "      <th>1</th>\n",
       "      <td>Natrol Melatonin Sleep Aid Gummy, Fall Asleep ...</td>\n",
       "      <td>10mg</td>\n",
       "    </tr>\n",
       "    <tr>\n",
       "      <th>2</th>\n",
       "      <td>Natrol Melatonin Sleep Aid Gummy, Fall Asleep ...</td>\n",
       "      <td>10mg</td>\n",
       "    </tr>\n",
       "    <tr>\n",
       "      <th>3</th>\n",
       "      <td>Natrol Melatonin Sleep Aid Gummy, Fall Asleep ...</td>\n",
       "      <td>10mg</td>\n",
       "    </tr>\n",
       "    <tr>\n",
       "      <th>4</th>\n",
       "      <td>Natrol Melatonin Sleep Aid Gummy, Fall Asleep ...</td>\n",
       "      <td>10mg</td>\n",
       "    </tr>\n",
       "  </tbody>\n",
       "</table>\n",
       "</div>"
      ],
      "text/plain": [
       "                                       product_title  dose\n",
       "0  Natrol Melatonin Sleep Aid Gummy, Fall Asleep ...  10mg\n",
       "1  Natrol Melatonin Sleep Aid Gummy, Fall Asleep ...  10mg\n",
       "2  Natrol Melatonin Sleep Aid Gummy, Fall Asleep ...  10mg\n",
       "3  Natrol Melatonin Sleep Aid Gummy, Fall Asleep ...  10mg\n",
       "4  Natrol Melatonin Sleep Aid Gummy, Fall Asleep ...  10mg"
      ]
     },
     "execution_count": 97,
     "metadata": {},
     "output_type": "execute_result"
    }
   ],
   "source": [
    "NatrolSleepAidGummy[['product_title', 'dose']].head()"
   ]
  },
  {
   "cell_type": "code",
   "execution_count": 98,
   "id": "b5bd7e08-fa1c-4a14-81e2-cda540ce0183",
   "metadata": {
    "tags": []
   },
   "outputs": [],
   "source": [
    "FastDissolve = pd.read_csv(\"B08451719W_CarlyleMelatonin12mgFastDissolve300Tablets.csv\", encoding = \"ISO-8859-1\")\n",
    "# vitamaticMelatonin.head()"
   ]
  },
  {
   "cell_type": "code",
   "execution_count": 99,
   "id": "493ca98f-27dd-4539-83b8-dadbf17d15f6",
   "metadata": {
    "tags": []
   },
   "outputs": [],
   "source": [
    "def extract_dose_from_title(title):\n",
    "    parts = title.split()  # Split the title into parts by space\n",
    "    for i, part in enumerate(parts):\n",
    "        # Check if 'mg' is in this part\n",
    "        if 'mg' in part.lower():\n",
    "            # Attempt to extract numeric part from the same segment\n",
    "            num_part = ''.join(filter(str.isdigit, part))\n",
    "            if num_part:  # If digits are found, return with 'mg'\n",
    "                return num_part + 'mg'\n",
    "            elif i > 0 and parts[i-1].isdigit():\n",
    "                # If no digits in this segment, check the previous segment\n",
    "                return parts[i-1] + 'mg'\n",
    "    return 'Unknown'  # If no dosage is found, return 'Unknown'\n",
    "FastDissolve['dose'] = FastDissolve['product_title'].apply(extract_dose_from_title)"
   ]
  },
  {
   "cell_type": "code",
   "execution_count": 100,
   "id": "07a47393-5c34-4cf6-a2d8-904e6f339c7e",
   "metadata": {
    "tags": []
   },
   "outputs": [
    {
     "data": {
      "text/html": [
       "<div>\n",
       "<style scoped>\n",
       "    .dataframe tbody tr th:only-of-type {\n",
       "        vertical-align: middle;\n",
       "    }\n",
       "\n",
       "    .dataframe tbody tr th {\n",
       "        vertical-align: top;\n",
       "    }\n",
       "\n",
       "    .dataframe thead th {\n",
       "        text-align: right;\n",
       "    }\n",
       "</style>\n",
       "<table border=\"1\" class=\"dataframe\">\n",
       "  <thead>\n",
       "    <tr style=\"text-align: right;\">\n",
       "      <th></th>\n",
       "      <th>product_title</th>\n",
       "      <th>dose</th>\n",
       "    </tr>\n",
       "  </thead>\n",
       "  <tbody>\n",
       "    <tr>\n",
       "      <th>0</th>\n",
       "      <td>Carlyle Melatonin 12 mg Fast Dissolve 300 Tabl...</td>\n",
       "      <td>12mg</td>\n",
       "    </tr>\n",
       "    <tr>\n",
       "      <th>1</th>\n",
       "      <td>Carlyle Melatonin 12 mg Fast Dissolve 300 Tabl...</td>\n",
       "      <td>12mg</td>\n",
       "    </tr>\n",
       "    <tr>\n",
       "      <th>2</th>\n",
       "      <td>Carlyle Melatonin 12 mg Fast Dissolve 300 Tabl...</td>\n",
       "      <td>12mg</td>\n",
       "    </tr>\n",
       "    <tr>\n",
       "      <th>3</th>\n",
       "      <td>Carlyle Melatonin 12 mg Fast Dissolve 300 Tabl...</td>\n",
       "      <td>12mg</td>\n",
       "    </tr>\n",
       "    <tr>\n",
       "      <th>4</th>\n",
       "      <td>Carlyle Melatonin 12 mg Fast Dissolve 300 Tabl...</td>\n",
       "      <td>12mg</td>\n",
       "    </tr>\n",
       "  </tbody>\n",
       "</table>\n",
       "</div>"
      ],
      "text/plain": [
       "                                       product_title  dose\n",
       "0  Carlyle Melatonin 12 mg Fast Dissolve 300 Tabl...  12mg\n",
       "1  Carlyle Melatonin 12 mg Fast Dissolve 300 Tabl...  12mg\n",
       "2  Carlyle Melatonin 12 mg Fast Dissolve 300 Tabl...  12mg\n",
       "3  Carlyle Melatonin 12 mg Fast Dissolve 300 Tabl...  12mg\n",
       "4  Carlyle Melatonin 12 mg Fast Dissolve 300 Tabl...  12mg"
      ]
     },
     "execution_count": 100,
     "metadata": {},
     "output_type": "execute_result"
    }
   ],
   "source": [
    "FastDissolve[['product_title', 'dose']].head()"
   ]
  },
  {
   "cell_type": "code",
   "execution_count": null,
   "id": "00ed1780-211e-4205-8266-9a42e40e1cce",
   "metadata": {},
   "outputs": [],
   "source": [
    "#Merging the files"
   ]
  },
  {
   "cell_type": "code",
   "execution_count": 129,
   "id": "33fd9f3e-3510-42dc-b92b-2ec1a60f0cdb",
   "metadata": {
    "tags": []
   },
   "outputs": [
    {
     "data": {
      "text/html": [
       "<div>\n",
       "<style scoped>\n",
       "    .dataframe tbody tr th:only-of-type {\n",
       "        vertical-align: middle;\n",
       "    }\n",
       "\n",
       "    .dataframe tbody tr th {\n",
       "        vertical-align: top;\n",
       "    }\n",
       "\n",
       "    .dataframe thead th {\n",
       "        text-align: right;\n",
       "    }\n",
       "</style>\n",
       "<table border=\"1\" class=\"dataframe\">\n",
       "  <thead>\n",
       "    <tr style=\"text-align: right;\">\n",
       "      <th></th>\n",
       "      <th>asin</th>\n",
       "      <th>product_title</th>\n",
       "      <th>average_rating</th>\n",
       "      <th>total_reviews</th>\n",
       "      <th>review_author</th>\n",
       "      <th>author_badge</th>\n",
       "      <th>badge</th>\n",
       "      <th>reviewed_product_attribute</th>\n",
       "      <th>reviewed_variant_asin</th>\n",
       "      <th>variant_review_url</th>\n",
       "      <th>...</th>\n",
       "      <th>review_text</th>\n",
       "      <th>review_comment_count</th>\n",
       "      <th>review_header</th>\n",
       "      <th>no_of_people_reacted_helpful</th>\n",
       "      <th>author_profile_url</th>\n",
       "      <th>url</th>\n",
       "      <th>brand</th>\n",
       "      <th>review_url</th>\n",
       "      <th>input</th>\n",
       "      <th>dose</th>\n",
       "    </tr>\n",
       "  </thead>\n",
       "  <tbody>\n",
       "    <tr>\n",
       "      <th>0</th>\n",
       "      <td>B07N46LTJJ</td>\n",
       "      <td>ZzzQuil Pure Zzzs Melatonin Sleep Aid Gummies,...</td>\n",
       "      <td>4.5</td>\n",
       "      <td>1316</td>\n",
       "      <td>Erin</td>\n",
       "      <td>NaN</td>\n",
       "      <td>NaN</td>\n",
       "      <td>NaN</td>\n",
       "      <td>NaN</td>\n",
       "      <td>NaN</td>\n",
       "      <td>...</td>\n",
       "      <td>I managed to force down a couple of gummies an...</td>\n",
       "      <td>NaN</td>\n",
       "      <td>Bad taste</td>\n",
       "      <td>NaN</td>\n",
       "      <td>https://www.amazon.com/gp/profile/amzn1.accoun...</td>\n",
       "      <td>https://www.amazon.com/product-reviews/B07N46L...</td>\n",
       "      <td>ZzzQuil</td>\n",
       "      <td>https://www.amazon.com/gp/customer-reviews/RCX...</td>\n",
       "      <td>B07N46LTJJ</td>\n",
       "      <td>1mg</td>\n",
       "    </tr>\n",
       "    <tr>\n",
       "      <th>1</th>\n",
       "      <td>B07N46LTJJ</td>\n",
       "      <td>ZzzQuil Pure Zzzs Melatonin Sleep Aid Gummies,...</td>\n",
       "      <td>4.5</td>\n",
       "      <td>1316</td>\n",
       "      <td>A Customer</td>\n",
       "      <td>VINE VOICE</td>\n",
       "      <td>Verified Purchase</td>\n",
       "      <td>NaN</td>\n",
       "      <td>NaN</td>\n",
       "      <td>NaN</td>\n",
       "      <td>...</td>\n",
       "      <td>Iâve heard so many good things about this pr...</td>\n",
       "      <td>NaN</td>\n",
       "      <td>Works for my sister, but not for me. Plus it c...</td>\n",
       "      <td>9.0</td>\n",
       "      <td>https://www.amazon.com/gp/profile/amzn1.accoun...</td>\n",
       "      <td>https://www.amazon.com/product-reviews/B07N46L...</td>\n",
       "      <td>ZzzQuil</td>\n",
       "      <td>https://www.amazon.com/gp/customer-reviews/R3U...</td>\n",
       "      <td>B07N46LTJJ</td>\n",
       "      <td>1mg</td>\n",
       "    </tr>\n",
       "    <tr>\n",
       "      <th>2</th>\n",
       "      <td>B07N46LTJJ</td>\n",
       "      <td>ZzzQuil Pure Zzzs Melatonin Sleep Aid Gummies,...</td>\n",
       "      <td>4.5</td>\n",
       "      <td>1316</td>\n",
       "      <td>Grandma Melinda</td>\n",
       "      <td>NaN</td>\n",
       "      <td>Verified Purchase</td>\n",
       "      <td>NaN</td>\n",
       "      <td>NaN</td>\n",
       "      <td>NaN</td>\n",
       "      <td>...</td>\n",
       "      <td>The first ingredients are \"Corn syrup, water a...</td>\n",
       "      <td>NaN</td>\n",
       "      <td>Sickeningly sweet - loaded with sugar</td>\n",
       "      <td>NaN</td>\n",
       "      <td>https://www.amazon.com/gp/profile/amzn1.accoun...</td>\n",
       "      <td>https://www.amazon.com/product-reviews/B07N46L...</td>\n",
       "      <td>ZzzQuil</td>\n",
       "      <td>https://www.amazon.com/gp/customer-reviews/R2N...</td>\n",
       "      <td>B07N46LTJJ</td>\n",
       "      <td>1mg</td>\n",
       "    </tr>\n",
       "    <tr>\n",
       "      <th>3</th>\n",
       "      <td>B07N46LTJJ</td>\n",
       "      <td>ZzzQuil Pure Zzzs Melatonin Sleep Aid Gummies,...</td>\n",
       "      <td>4.5</td>\n",
       "      <td>1316</td>\n",
       "      <td>Judy</td>\n",
       "      <td>NaN</td>\n",
       "      <td>Verified Purchase</td>\n",
       "      <td>NaN</td>\n",
       "      <td>NaN</td>\n",
       "      <td>NaN</td>\n",
       "      <td>...</td>\n",
       "      <td>Product works! End up getting sleepy like boo ...</td>\n",
       "      <td>NaN</td>\n",
       "      <td>Actually works!</td>\n",
       "      <td>NaN</td>\n",
       "      <td>https://www.amazon.com/gp/profile/amzn1.accoun...</td>\n",
       "      <td>https://www.amazon.com/product-reviews/B07N46L...</td>\n",
       "      <td>ZzzQuil</td>\n",
       "      <td>https://www.amazon.com/gp/customer-reviews/R1H...</td>\n",
       "      <td>B07N46LTJJ</td>\n",
       "      <td>1mg</td>\n",
       "    </tr>\n",
       "    <tr>\n",
       "      <th>4</th>\n",
       "      <td>B07N46LTJJ</td>\n",
       "      <td>ZzzQuil Pure Zzzs Melatonin Sleep Aid Gummies,...</td>\n",
       "      <td>4.5</td>\n",
       "      <td>1316</td>\n",
       "      <td>nancy garris</td>\n",
       "      <td>NaN</td>\n",
       "      <td>Verified Purchase</td>\n",
       "      <td>NaN</td>\n",
       "      <td>NaN</td>\n",
       "      <td>NaN</td>\n",
       "      <td>...</td>\n",
       "      <td>You go to sleep very quickly!</td>\n",
       "      <td>NaN</td>\n",
       "      <td>Works great</td>\n",
       "      <td>NaN</td>\n",
       "      <td>https://www.amazon.com/gp/profile/amzn1.accoun...</td>\n",
       "      <td>https://www.amazon.com/product-reviews/B07N46L...</td>\n",
       "      <td>ZzzQuil</td>\n",
       "      <td>https://www.amazon.com/gp/customer-reviews/R3K...</td>\n",
       "      <td>B07N46LTJJ</td>\n",
       "      <td>1mg</td>\n",
       "    </tr>\n",
       "  </tbody>\n",
       "</table>\n",
       "<p>5 rows × 23 columns</p>\n",
       "</div>"
      ],
      "text/plain": [
       "         asin                                      product_title  \\\n",
       "0  B07N46LTJJ  ZzzQuil Pure Zzzs Melatonin Sleep Aid Gummies,...   \n",
       "1  B07N46LTJJ  ZzzQuil Pure Zzzs Melatonin Sleep Aid Gummies,...   \n",
       "2  B07N46LTJJ  ZzzQuil Pure Zzzs Melatonin Sleep Aid Gummies,...   \n",
       "3  B07N46LTJJ  ZzzQuil Pure Zzzs Melatonin Sleep Aid Gummies,...   \n",
       "4  B07N46LTJJ  ZzzQuil Pure Zzzs Melatonin Sleep Aid Gummies,...   \n",
       "\n",
       "   average_rating  total_reviews    review_author author_badge  \\\n",
       "0             4.5           1316             Erin          NaN   \n",
       "1             4.5           1316       A Customer   VINE VOICE   \n",
       "2             4.5           1316  Grandma Melinda          NaN   \n",
       "3             4.5           1316             Judy          NaN   \n",
       "4             4.5           1316     nancy garris          NaN   \n",
       "\n",
       "               badge reviewed_product_attribute reviewed_variant_asin  \\\n",
       "0                NaN                        NaN                   NaN   \n",
       "1  Verified Purchase                        NaN                   NaN   \n",
       "2  Verified Purchase                        NaN                   NaN   \n",
       "3  Verified Purchase                        NaN                   NaN   \n",
       "4  Verified Purchase                        NaN                   NaN   \n",
       "\n",
       "  variant_review_url  ...                                        review_text  \\\n",
       "0                NaN  ...  I managed to force down a couple of gummies an...   \n",
       "1                NaN  ...  Iâve heard so many good things about this pr...   \n",
       "2                NaN  ...  The first ingredients are \"Corn syrup, water a...   \n",
       "3                NaN  ...  Product works! End up getting sleepy like boo ...   \n",
       "4                NaN  ...                      You go to sleep very quickly!   \n",
       "\n",
       "  review_comment_count                                      review_header  \\\n",
       "0                  NaN                                          Bad taste   \n",
       "1                  NaN  Works for my sister, but not for me. Plus it c...   \n",
       "2                  NaN              Sickeningly sweet - loaded with sugar   \n",
       "3                  NaN                                    Actually works!   \n",
       "4                  NaN                                        Works great   \n",
       "\n",
       "  no_of_people_reacted_helpful  \\\n",
       "0                          NaN   \n",
       "1                          9.0   \n",
       "2                          NaN   \n",
       "3                          NaN   \n",
       "4                          NaN   \n",
       "\n",
       "                                  author_profile_url  \\\n",
       "0  https://www.amazon.com/gp/profile/amzn1.accoun...   \n",
       "1  https://www.amazon.com/gp/profile/amzn1.accoun...   \n",
       "2  https://www.amazon.com/gp/profile/amzn1.accoun...   \n",
       "3  https://www.amazon.com/gp/profile/amzn1.accoun...   \n",
       "4  https://www.amazon.com/gp/profile/amzn1.accoun...   \n",
       "\n",
       "                                                 url    brand  \\\n",
       "0  https://www.amazon.com/product-reviews/B07N46L...  ZzzQuil   \n",
       "1  https://www.amazon.com/product-reviews/B07N46L...  ZzzQuil   \n",
       "2  https://www.amazon.com/product-reviews/B07N46L...  ZzzQuil   \n",
       "3  https://www.amazon.com/product-reviews/B07N46L...  ZzzQuil   \n",
       "4  https://www.amazon.com/product-reviews/B07N46L...  ZzzQuil   \n",
       "\n",
       "                                          review_url       input dose  \n",
       "0  https://www.amazon.com/gp/customer-reviews/RCX...  B07N46LTJJ  1mg  \n",
       "1  https://www.amazon.com/gp/customer-reviews/R3U...  B07N46LTJJ  1mg  \n",
       "2  https://www.amazon.com/gp/customer-reviews/R2N...  B07N46LTJJ  1mg  \n",
       "3  https://www.amazon.com/gp/customer-reviews/R1H...  B07N46LTJJ  1mg  \n",
       "4  https://www.amazon.com/gp/customer-reviews/R3K...  B07N46LTJJ  1mg  \n",
       "\n",
       "[5 rows x 23 columns]"
      ]
     },
     "execution_count": 129,
     "metadata": {},
     "output_type": "execute_result"
    }
   ],
   "source": [
    "merged_df = pd.concat([sleepAidGummies,melatoningummy,vitamaticMelatonin, NatrolSleepAidGummy,FastDissolve], ignore_index=True)\n",
    "merged_df.head()"
   ]
  },
  {
   "cell_type": "code",
   "execution_count": 130,
   "id": "966a36ad-e2d8-4926-b694-5c20db2b2591",
   "metadata": {
    "tags": []
   },
   "outputs": [
    {
     "data": {
      "text/html": [
       "<div>\n",
       "<style scoped>\n",
       "    .dataframe tbody tr th:only-of-type {\n",
       "        vertical-align: middle;\n",
       "    }\n",
       "\n",
       "    .dataframe tbody tr th {\n",
       "        vertical-align: top;\n",
       "    }\n",
       "\n",
       "    .dataframe thead th {\n",
       "        text-align: right;\n",
       "    }\n",
       "</style>\n",
       "<table border=\"1\" class=\"dataframe\">\n",
       "  <thead>\n",
       "    <tr style=\"text-align: right;\">\n",
       "      <th></th>\n",
       "      <th>asin</th>\n",
       "      <th>product_title</th>\n",
       "      <th>average_rating</th>\n",
       "      <th>total_reviews</th>\n",
       "      <th>review_author</th>\n",
       "      <th>author_badge</th>\n",
       "      <th>badge</th>\n",
       "      <th>reviewed_product_attribute</th>\n",
       "      <th>reviewed_variant_asin</th>\n",
       "      <th>variant_review_url</th>\n",
       "      <th>...</th>\n",
       "      <th>review_text</th>\n",
       "      <th>review_comment_count</th>\n",
       "      <th>review_header</th>\n",
       "      <th>no_of_people_reacted_helpful</th>\n",
       "      <th>author_profile_url</th>\n",
       "      <th>url</th>\n",
       "      <th>brand</th>\n",
       "      <th>review_url</th>\n",
       "      <th>input</th>\n",
       "      <th>dose</th>\n",
       "    </tr>\n",
       "  </thead>\n",
       "  <tbody>\n",
       "    <tr>\n",
       "      <th>7705</th>\n",
       "      <td>B08451719W</td>\n",
       "      <td>Carlyle Melatonin 12 mg Fast Dissolve 300 Tabl...</td>\n",
       "      <td>4.7</td>\n",
       "      <td>768</td>\n",
       "      <td>LUCI BATES</td>\n",
       "      <td>NaN</td>\n",
       "      <td>Verified Purchase</td>\n",
       "      <td>NaN</td>\n",
       "      <td>NaN</td>\n",
       "      <td>NaN</td>\n",
       "      <td>...</td>\n",
       "      <td>They taste and work great!!!! Fall asleep pret...</td>\n",
       "      <td>NaN</td>\n",
       "      <td>They work Great!!!!</td>\n",
       "      <td>NaN</td>\n",
       "      <td>https://www.amazon.com/gp/profile/amzn1.accoun...</td>\n",
       "      <td>https://www.amazon.com/product-reviews/B084517...</td>\n",
       "      <td>Carlyle</td>\n",
       "      <td>https://www.amazon.com/gp/customer-reviews/RVU...</td>\n",
       "      <td>B08451719W</td>\n",
       "      <td>12mg</td>\n",
       "    </tr>\n",
       "    <tr>\n",
       "      <th>7706</th>\n",
       "      <td>B08451719W</td>\n",
       "      <td>Carlyle Melatonin 12 mg Fast Dissolve 300 Tabl...</td>\n",
       "      <td>4.7</td>\n",
       "      <td>768</td>\n",
       "      <td>Precola</td>\n",
       "      <td>NaN</td>\n",
       "      <td>Verified Purchase</td>\n",
       "      <td>NaN</td>\n",
       "      <td>NaN</td>\n",
       "      <td>NaN</td>\n",
       "      <td>...</td>\n",
       "      <td>They werenât the best tasting. But they work...</td>\n",
       "      <td>NaN</td>\n",
       "      <td>Tastes gross</td>\n",
       "      <td>NaN</td>\n",
       "      <td>https://www.amazon.com/gp/profile/amzn1.accoun...</td>\n",
       "      <td>https://www.amazon.com/product-reviews/B084517...</td>\n",
       "      <td>Carlyle</td>\n",
       "      <td>https://www.amazon.com/gp/customer-reviews/R2E...</td>\n",
       "      <td>B08451719W</td>\n",
       "      <td>12mg</td>\n",
       "    </tr>\n",
       "    <tr>\n",
       "      <th>7707</th>\n",
       "      <td>B08451719W</td>\n",
       "      <td>Carlyle Melatonin 12 mg Fast Dissolve 300 Tabl...</td>\n",
       "      <td>4.7</td>\n",
       "      <td>768</td>\n",
       "      <td>Ashley McCann Apostle</td>\n",
       "      <td>NaN</td>\n",
       "      <td>Verified Purchase</td>\n",
       "      <td>NaN</td>\n",
       "      <td>NaN</td>\n",
       "      <td>NaN</td>\n",
       "      <td>...</td>\n",
       "      <td>I usually buy the Puritans Pride 10mg capsules...</td>\n",
       "      <td>NaN</td>\n",
       "      <td>Don't work for me</td>\n",
       "      <td>1.0</td>\n",
       "      <td>https://www.amazon.com/gp/profile/amzn1.accoun...</td>\n",
       "      <td>https://www.amazon.com/product-reviews/B084517...</td>\n",
       "      <td>Carlyle</td>\n",
       "      <td>https://www.amazon.com/gp/customer-reviews/R31...</td>\n",
       "      <td>B08451719W</td>\n",
       "      <td>12mg</td>\n",
       "    </tr>\n",
       "    <tr>\n",
       "      <th>7708</th>\n",
       "      <td>B08451719W</td>\n",
       "      <td>Carlyle Melatonin 12 mg Fast Dissolve 300 Tabl...</td>\n",
       "      <td>4.7</td>\n",
       "      <td>768</td>\n",
       "      <td>Sharper Shopper</td>\n",
       "      <td>NaN</td>\n",
       "      <td>Verified Purchase</td>\n",
       "      <td>NaN</td>\n",
       "      <td>NaN</td>\n",
       "      <td>NaN</td>\n",
       "      <td>...</td>\n",
       "      <td>Works like a charm. Great sleep!!!</td>\n",
       "      <td>NaN</td>\n",
       "      <td>Works like a charm</td>\n",
       "      <td>NaN</td>\n",
       "      <td>https://www.amazon.com/gp/profile/amzn1.accoun...</td>\n",
       "      <td>https://www.amazon.com/product-reviews/B084517...</td>\n",
       "      <td>Carlyle</td>\n",
       "      <td>https://www.amazon.com/gp/customer-reviews/R6D...</td>\n",
       "      <td>B08451719W</td>\n",
       "      <td>12mg</td>\n",
       "    </tr>\n",
       "    <tr>\n",
       "      <th>7709</th>\n",
       "      <td>B08451719W</td>\n",
       "      <td>Carlyle Melatonin 12 mg Fast Dissolve 300 Tabl...</td>\n",
       "      <td>4.7</td>\n",
       "      <td>768</td>\n",
       "      <td>JW</td>\n",
       "      <td>NaN</td>\n",
       "      <td>Verified Purchase</td>\n",
       "      <td>NaN</td>\n",
       "      <td>NaN</td>\n",
       "      <td>NaN</td>\n",
       "      <td>...</td>\n",
       "      <td>The flavor is great, you could chew it if you ...</td>\n",
       "      <td>NaN</td>\n",
       "      <td>This works to relax you and to help you sleep.</td>\n",
       "      <td>NaN</td>\n",
       "      <td>https://www.amazon.com/gp/profile/amzn1.accoun...</td>\n",
       "      <td>https://www.amazon.com/product-reviews/B084517...</td>\n",
       "      <td>Carlyle</td>\n",
       "      <td>https://www.amazon.com/gp/customer-reviews/RSA...</td>\n",
       "      <td>B08451719W</td>\n",
       "      <td>12mg</td>\n",
       "    </tr>\n",
       "  </tbody>\n",
       "</table>\n",
       "<p>5 rows × 23 columns</p>\n",
       "</div>"
      ],
      "text/plain": [
       "            asin                                      product_title  \\\n",
       "7705  B08451719W  Carlyle Melatonin 12 mg Fast Dissolve 300 Tabl...   \n",
       "7706  B08451719W  Carlyle Melatonin 12 mg Fast Dissolve 300 Tabl...   \n",
       "7707  B08451719W  Carlyle Melatonin 12 mg Fast Dissolve 300 Tabl...   \n",
       "7708  B08451719W  Carlyle Melatonin 12 mg Fast Dissolve 300 Tabl...   \n",
       "7709  B08451719W  Carlyle Melatonin 12 mg Fast Dissolve 300 Tabl...   \n",
       "\n",
       "      average_rating  total_reviews          review_author author_badge  \\\n",
       "7705             4.7            768             LUCI BATES          NaN   \n",
       "7706             4.7            768                Precola          NaN   \n",
       "7707             4.7            768  Ashley McCann Apostle          NaN   \n",
       "7708             4.7            768        Sharper Shopper          NaN   \n",
       "7709             4.7            768                     JW          NaN   \n",
       "\n",
       "                  badge reviewed_product_attribute reviewed_variant_asin  \\\n",
       "7705  Verified Purchase                        NaN                   NaN   \n",
       "7706  Verified Purchase                        NaN                   NaN   \n",
       "7707  Verified Purchase                        NaN                   NaN   \n",
       "7708  Verified Purchase                        NaN                   NaN   \n",
       "7709  Verified Purchase                        NaN                   NaN   \n",
       "\n",
       "     variant_review_url  ...  \\\n",
       "7705                NaN  ...   \n",
       "7706                NaN  ...   \n",
       "7707                NaN  ...   \n",
       "7708                NaN  ...   \n",
       "7709                NaN  ...   \n",
       "\n",
       "                                            review_text review_comment_count  \\\n",
       "7705  They taste and work great!!!! Fall asleep pret...                  NaN   \n",
       "7706  They werenât the best tasting. But they work...                  NaN   \n",
       "7707  I usually buy the Puritans Pride 10mg capsules...                  NaN   \n",
       "7708                 Works like a charm. Great sleep!!!                  NaN   \n",
       "7709  The flavor is great, you could chew it if you ...                  NaN   \n",
       "\n",
       "                                       review_header  \\\n",
       "7705                             They work Great!!!!   \n",
       "7706                                    Tastes gross   \n",
       "7707                               Don't work for me   \n",
       "7708                              Works like a charm   \n",
       "7709  This works to relax you and to help you sleep.   \n",
       "\n",
       "     no_of_people_reacted_helpful  \\\n",
       "7705                          NaN   \n",
       "7706                          NaN   \n",
       "7707                          1.0   \n",
       "7708                          NaN   \n",
       "7709                          NaN   \n",
       "\n",
       "                                     author_profile_url  \\\n",
       "7705  https://www.amazon.com/gp/profile/amzn1.accoun...   \n",
       "7706  https://www.amazon.com/gp/profile/amzn1.accoun...   \n",
       "7707  https://www.amazon.com/gp/profile/amzn1.accoun...   \n",
       "7708  https://www.amazon.com/gp/profile/amzn1.accoun...   \n",
       "7709  https://www.amazon.com/gp/profile/amzn1.accoun...   \n",
       "\n",
       "                                                    url    brand  \\\n",
       "7705  https://www.amazon.com/product-reviews/B084517...  Carlyle   \n",
       "7706  https://www.amazon.com/product-reviews/B084517...  Carlyle   \n",
       "7707  https://www.amazon.com/product-reviews/B084517...  Carlyle   \n",
       "7708  https://www.amazon.com/product-reviews/B084517...  Carlyle   \n",
       "7709  https://www.amazon.com/product-reviews/B084517...  Carlyle   \n",
       "\n",
       "                                             review_url       input  dose  \n",
       "7705  https://www.amazon.com/gp/customer-reviews/RVU...  B08451719W  12mg  \n",
       "7706  https://www.amazon.com/gp/customer-reviews/R2E...  B08451719W  12mg  \n",
       "7707  https://www.amazon.com/gp/customer-reviews/R31...  B08451719W  12mg  \n",
       "7708  https://www.amazon.com/gp/customer-reviews/R6D...  B08451719W  12mg  \n",
       "7709  https://www.amazon.com/gp/customer-reviews/RSA...  B08451719W  12mg  \n",
       "\n",
       "[5 rows x 23 columns]"
      ]
     },
     "execution_count": 130,
     "metadata": {},
     "output_type": "execute_result"
    }
   ],
   "source": [
    "merged_df.tail()"
   ]
  },
  {
   "cell_type": "code",
   "execution_count": 131,
   "id": "da7f049c-ae93-4d8d-a9a6-dad96f2f322c",
   "metadata": {
    "tags": []
   },
   "outputs": [
    {
     "data": {
      "text/plain": [
       "(7710, 23)"
      ]
     },
     "execution_count": 131,
     "metadata": {},
     "output_type": "execute_result"
    }
   ],
   "source": [
    "merged_df.shape"
   ]
  },
  {
   "cell_type": "code",
   "execution_count": 132,
   "id": "58ff8f87-9cd9-4de0-845d-4d31cbb1dec0",
   "metadata": {
    "tags": []
   },
   "outputs": [
    {
     "name": "stdout",
     "output_type": "stream",
     "text": [
      "<class 'pandas.core.frame.DataFrame'>\n",
      "RangeIndex: 7710 entries, 0 to 7709\n",
      "Data columns (total 23 columns):\n",
      " #   Column                        Non-Null Count  Dtype  \n",
      "---  ------                        --------------  -----  \n",
      " 0   asin                          7710 non-null   object \n",
      " 1   product_title                 7710 non-null   object \n",
      " 2   average_rating                7710 non-null   float64\n",
      " 3   total_reviews                 7710 non-null   int64  \n",
      " 4   review_author                 7710 non-null   object \n",
      " 5   author_badge                  60 non-null     object \n",
      " 6   badge                         7486 non-null   object \n",
      " 7   reviewed_product_attribute    5621 non-null   object \n",
      " 8   reviewed_variant_asin         5621 non-null   object \n",
      " 9   variant_review_url            5621 non-null   object \n",
      " 10  review_rating                 7710 non-null   int64  \n",
      " 11  review_date                   7710 non-null   object \n",
      " 12  reviewed_country              7710 non-null   object \n",
      " 13  review_text                   7693 non-null   object \n",
      " 14  review_comment_count          0 non-null      float64\n",
      " 15  review_header                 7707 non-null   object \n",
      " 16  no_of_people_reacted_helpful  1505 non-null   object \n",
      " 17  author_profile_url            7710 non-null   object \n",
      " 18  url                           7710 non-null   object \n",
      " 19  brand                         7710 non-null   object \n",
      " 20  review_url                    7710 non-null   object \n",
      " 21  input                         7710 non-null   object \n",
      " 22  dose                          7710 non-null   object \n",
      "dtypes: float64(2), int64(2), object(19)\n",
      "memory usage: 1.4+ MB\n"
     ]
    }
   ],
   "source": [
    "merged_df.info()"
   ]
  },
  {
   "cell_type": "code",
   "execution_count": null,
   "id": "7b4007d1-5428-4328-882b-1b6bf30dde41",
   "metadata": {},
   "outputs": [],
   "source": [
    "# (1) Remove unnecessary features. "
   ]
  },
  {
   "cell_type": "code",
   "execution_count": 133,
   "id": "e7e04fdf-7ce3-4dd4-9922-27500a1b9685",
   "metadata": {
    "tags": []
   },
   "outputs": [],
   "source": [
    "columns_to_drop = ['review_author', 'author_badge', 'badge', 'reviewed_product_attribute', 'reviewed_variant_asin', 'variant_review_url','product_title', \n",
    "                   'review_comment_count', 'no_of_people_reacted_helpful', 'author_profile_url', 'url', 'review_url', 'input','average_rating','total_reviews', 'review_date', 'reviewed_country','brand']\n",
    "merged_df.drop(columns=columns_to_drop, inplace=True)"
   ]
  },
  {
   "cell_type": "code",
   "execution_count": 134,
   "id": "7a64ac99-a50b-4c74-b361-54371953198c",
   "metadata": {
    "tags": []
   },
   "outputs": [
    {
     "name": "stdout",
     "output_type": "stream",
     "text": [
      "Index(['asin', 'review_rating', 'review_text', 'review_header', 'dose'], dtype='object')\n"
     ]
    }
   ],
   "source": [
    "print(merged_df.columns)"
   ]
  },
  {
   "cell_type": "code",
   "execution_count": 135,
   "id": "8b474f41-cdd3-4aff-9d4b-f037735d67f5",
   "metadata": {
    "tags": []
   },
   "outputs": [
    {
     "data": {
      "text/html": [
       "<div>\n",
       "<style scoped>\n",
       "    .dataframe tbody tr th:only-of-type {\n",
       "        vertical-align: middle;\n",
       "    }\n",
       "\n",
       "    .dataframe tbody tr th {\n",
       "        vertical-align: top;\n",
       "    }\n",
       "\n",
       "    .dataframe thead th {\n",
       "        text-align: right;\n",
       "    }\n",
       "</style>\n",
       "<table border=\"1\" class=\"dataframe\">\n",
       "  <thead>\n",
       "    <tr style=\"text-align: right;\">\n",
       "      <th></th>\n",
       "      <th>asin</th>\n",
       "      <th>review_rating</th>\n",
       "      <th>review_text</th>\n",
       "      <th>review_header</th>\n",
       "      <th>dose</th>\n",
       "    </tr>\n",
       "  </thead>\n",
       "  <tbody>\n",
       "    <tr>\n",
       "      <th>0</th>\n",
       "      <td>B07N46LTJJ</td>\n",
       "      <td>2</td>\n",
       "      <td>I managed to force down a couple of gummies an...</td>\n",
       "      <td>Bad taste</td>\n",
       "      <td>1mg</td>\n",
       "    </tr>\n",
       "    <tr>\n",
       "      <th>1</th>\n",
       "      <td>B07N46LTJJ</td>\n",
       "      <td>3</td>\n",
       "      <td>Iâve heard so many good things about this pr...</td>\n",
       "      <td>Works for my sister, but not for me. Plus it c...</td>\n",
       "      <td>1mg</td>\n",
       "    </tr>\n",
       "    <tr>\n",
       "      <th>2</th>\n",
       "      <td>B07N46LTJJ</td>\n",
       "      <td>1</td>\n",
       "      <td>The first ingredients are \"Corn syrup, water a...</td>\n",
       "      <td>Sickeningly sweet - loaded with sugar</td>\n",
       "      <td>1mg</td>\n",
       "    </tr>\n",
       "    <tr>\n",
       "      <th>3</th>\n",
       "      <td>B07N46LTJJ</td>\n",
       "      <td>5</td>\n",
       "      <td>Product works! End up getting sleepy like boo ...</td>\n",
       "      <td>Actually works!</td>\n",
       "      <td>1mg</td>\n",
       "    </tr>\n",
       "    <tr>\n",
       "      <th>4</th>\n",
       "      <td>B07N46LTJJ</td>\n",
       "      <td>5</td>\n",
       "      <td>You go to sleep very quickly!</td>\n",
       "      <td>Works great</td>\n",
       "      <td>1mg</td>\n",
       "    </tr>\n",
       "  </tbody>\n",
       "</table>\n",
       "</div>"
      ],
      "text/plain": [
       "         asin  review_rating  \\\n",
       "0  B07N46LTJJ              2   \n",
       "1  B07N46LTJJ              3   \n",
       "2  B07N46LTJJ              1   \n",
       "3  B07N46LTJJ              5   \n",
       "4  B07N46LTJJ              5   \n",
       "\n",
       "                                         review_text  \\\n",
       "0  I managed to force down a couple of gummies an...   \n",
       "1  Iâve heard so many good things about this pr...   \n",
       "2  The first ingredients are \"Corn syrup, water a...   \n",
       "3  Product works! End up getting sleepy like boo ...   \n",
       "4                      You go to sleep very quickly!   \n",
       "\n",
       "                                       review_header dose  \n",
       "0                                          Bad taste  1mg  \n",
       "1  Works for my sister, but not for me. Plus it c...  1mg  \n",
       "2              Sickeningly sweet - loaded with sugar  1mg  \n",
       "3                                    Actually works!  1mg  \n",
       "4                                        Works great  1mg  "
      ]
     },
     "execution_count": 135,
     "metadata": {},
     "output_type": "execute_result"
    }
   ],
   "source": [
    "merged_df.head()"
   ]
  },
  {
   "cell_type": "code",
   "execution_count": 136,
   "id": "c4480a2e-e333-4bc3-9c51-653fb538b055",
   "metadata": {
    "tags": []
   },
   "outputs": [
    {
     "data": {
      "text/html": [
       "<div>\n",
       "<style scoped>\n",
       "    .dataframe tbody tr th:only-of-type {\n",
       "        vertical-align: middle;\n",
       "    }\n",
       "\n",
       "    .dataframe tbody tr th {\n",
       "        vertical-align: top;\n",
       "    }\n",
       "\n",
       "    .dataframe thead th {\n",
       "        text-align: right;\n",
       "    }\n",
       "</style>\n",
       "<table border=\"1\" class=\"dataframe\">\n",
       "  <thead>\n",
       "    <tr style=\"text-align: right;\">\n",
       "      <th></th>\n",
       "      <th>asin</th>\n",
       "      <th>review_rating</th>\n",
       "      <th>review_text</th>\n",
       "      <th>review_header</th>\n",
       "      <th>dose</th>\n",
       "    </tr>\n",
       "  </thead>\n",
       "  <tbody>\n",
       "    <tr>\n",
       "      <th>7705</th>\n",
       "      <td>B08451719W</td>\n",
       "      <td>3</td>\n",
       "      <td>They taste and work great!!!! Fall asleep pret...</td>\n",
       "      <td>They work Great!!!!</td>\n",
       "      <td>12mg</td>\n",
       "    </tr>\n",
       "    <tr>\n",
       "      <th>7706</th>\n",
       "      <td>B08451719W</td>\n",
       "      <td>3</td>\n",
       "      <td>They werenât the best tasting. But they work...</td>\n",
       "      <td>Tastes gross</td>\n",
       "      <td>12mg</td>\n",
       "    </tr>\n",
       "    <tr>\n",
       "      <th>7707</th>\n",
       "      <td>B08451719W</td>\n",
       "      <td>2</td>\n",
       "      <td>I usually buy the Puritans Pride 10mg capsules...</td>\n",
       "      <td>Don't work for me</td>\n",
       "      <td>12mg</td>\n",
       "    </tr>\n",
       "    <tr>\n",
       "      <th>7708</th>\n",
       "      <td>B08451719W</td>\n",
       "      <td>5</td>\n",
       "      <td>Works like a charm. Great sleep!!!</td>\n",
       "      <td>Works like a charm</td>\n",
       "      <td>12mg</td>\n",
       "    </tr>\n",
       "    <tr>\n",
       "      <th>7709</th>\n",
       "      <td>B08451719W</td>\n",
       "      <td>5</td>\n",
       "      <td>The flavor is great, you could chew it if you ...</td>\n",
       "      <td>This works to relax you and to help you sleep.</td>\n",
       "      <td>12mg</td>\n",
       "    </tr>\n",
       "  </tbody>\n",
       "</table>\n",
       "</div>"
      ],
      "text/plain": [
       "            asin  review_rating  \\\n",
       "7705  B08451719W              3   \n",
       "7706  B08451719W              3   \n",
       "7707  B08451719W              2   \n",
       "7708  B08451719W              5   \n",
       "7709  B08451719W              5   \n",
       "\n",
       "                                            review_text  \\\n",
       "7705  They taste and work great!!!! Fall asleep pret...   \n",
       "7706  They werenât the best tasting. But they work...   \n",
       "7707  I usually buy the Puritans Pride 10mg capsules...   \n",
       "7708                 Works like a charm. Great sleep!!!   \n",
       "7709  The flavor is great, you could chew it if you ...   \n",
       "\n",
       "                                       review_header  dose  \n",
       "7705                             They work Great!!!!  12mg  \n",
       "7706                                    Tastes gross  12mg  \n",
       "7707                               Don't work for me  12mg  \n",
       "7708                              Works like a charm  12mg  \n",
       "7709  This works to relax you and to help you sleep.  12mg  "
      ]
     },
     "execution_count": 136,
     "metadata": {},
     "output_type": "execute_result"
    }
   ],
   "source": [
    "merged_df.tail()"
   ]
  },
  {
   "cell_type": "code",
   "execution_count": 118,
   "id": "c4a339a6-cd51-4141-8960-e169e3bed26c",
   "metadata": {
    "tags": []
   },
   "outputs": [
    {
     "data": {
      "text/html": [
       "<div>\n",
       "<style scoped>\n",
       "    .dataframe tbody tr th:only-of-type {\n",
       "        vertical-align: middle;\n",
       "    }\n",
       "\n",
       "    .dataframe tbody tr th {\n",
       "        vertical-align: top;\n",
       "    }\n",
       "\n",
       "    .dataframe thead th {\n",
       "        text-align: right;\n",
       "    }\n",
       "</style>\n",
       "<table border=\"1\" class=\"dataframe\">\n",
       "  <thead>\n",
       "    <tr style=\"text-align: right;\">\n",
       "      <th></th>\n",
       "      <th>x</th>\n",
       "    </tr>\n",
       "  </thead>\n",
       "  <tbody>\n",
       "    <tr>\n",
       "      <th>568</th>\n",
       "      <td>yours</td>\n",
       "    </tr>\n",
       "    <tr>\n",
       "      <th>569</th>\n",
       "      <td>yourself</td>\n",
       "    </tr>\n",
       "    <tr>\n",
       "      <th>570</th>\n",
       "      <td>yourselves</td>\n",
       "    </tr>\n",
       "    <tr>\n",
       "      <th>571</th>\n",
       "      <td>z</td>\n",
       "    </tr>\n",
       "    <tr>\n",
       "      <th>572</th>\n",
       "      <td>zero</td>\n",
       "    </tr>\n",
       "  </tbody>\n",
       "</table>\n",
       "</div>"
      ],
      "text/plain": [
       "              x\n",
       "568       yours\n",
       "569    yourself\n",
       "570  yourselves\n",
       "571           z\n",
       "572        zero"
      ]
     },
     "execution_count": 118,
     "metadata": {},
     "output_type": "execute_result"
    }
   ],
   "source": [
    "#Load stop words\n",
    "stop = pd.read_csv('stop.txt', encoding = \"ISO-8859-1\")\n",
    "stop.tail()"
   ]
  },
  {
   "cell_type": "code",
   "execution_count": null,
   "id": "df72f657-237e-4763-9972-491738a2e183",
   "metadata": {},
   "outputs": [],
   "source": []
  },
  {
   "cell_type": "code",
   "execution_count": null,
   "id": "f1b52a2d-52bb-4cf0-bdbf-f4a7ec327564",
   "metadata": {},
   "outputs": [],
   "source": []
  },
  {
   "cell_type": "code",
   "execution_count": null,
   "id": "f43a8f6f-3ddb-493c-9dbf-77e32106372e",
   "metadata": {},
   "outputs": [],
   "source": []
  },
  {
   "cell_type": "code",
   "execution_count": null,
   "id": "ba61cc1f-68ea-4c47-bf82-33d08e525d65",
   "metadata": {},
   "outputs": [],
   "source": []
  },
  {
   "cell_type": "code",
   "execution_count": null,
   "id": "171dae78-8916-41c4-9be7-858824c9ba5c",
   "metadata": {},
   "outputs": [],
   "source": []
  },
  {
   "cell_type": "code",
   "execution_count": null,
   "id": "1d819cc6-c5d4-4edd-9526-cb6feb4e10ca",
   "metadata": {},
   "outputs": [],
   "source": []
  },
  {
   "cell_type": "code",
   "execution_count": null,
   "id": "cf3b0bd7-f073-42a8-a2f0-a12ead3b92b8",
   "metadata": {},
   "outputs": [],
   "source": []
  },
  {
   "cell_type": "code",
   "execution_count": 5,
   "id": "f41f8669-c118-41aa-a5bd-379b9f7e0f8a",
   "metadata": {
    "tags": []
   },
   "outputs": [
    {
     "name": "stdout",
     "output_type": "stream",
     "text": [
      "Sentiment Analysis:\n",
      "dose\n",
      "10mg    4.12037\n",
      "20mg    3.98500\n",
      "Name: review_rating, dtype: float64\n",
      "\n",
      "\n"
     ]
    }
   ],
   "source": [
    "sentiment_scores = merged_df.groupby('dose')['review_rating'].mean()\n",
    "print(\"Sentiment Analysis:\")\n",
    "print(sentiment_scores)\n",
    "print(\"\\n\")"
   ]
  },
  {
   "cell_type": "code",
   "execution_count": 10,
   "id": "e7973a6b-a731-4ea5-9d3c-1cbd7c278916",
   "metadata": {
    "tags": []
   },
   "outputs": [],
   "source": [
    "# Step 3: Text Analysis\n",
    "\n",
    "# Combine review_text and review_header for analysis\n",
    "merged_df['combined_review'] = merged_df['review_text'] + ' ' + merged_df['review_header']"
   ]
  },
  {
   "cell_type": "code",
   "execution_count": 18,
   "id": "a2e2f580-b49c-448f-8923-6e950d95192a",
   "metadata": {
    "tags": []
   },
   "outputs": [],
   "source": [
    "# Clean text data\n",
    "stop_words = set(stopwords.words('english'))\n",
    "\n",
    "def clean_text(text):\n",
    "    if pd.isna(text):\n",
    "        return []\n",
    "    else:\n",
    "        tokens = word_tokenize(text)\n",
    "        cleaned_tokens = [token.lower() for token in tokens if token.lower() not in stop_words and len(token) > 1]\n",
    "        return cleaned_tokens\n",
    "\n",
    "merged_df['cleaned_text'] = merged_df['combined_review'].apply(clean_text)"
   ]
  },
  {
   "cell_type": "code",
   "execution_count": 21,
   "id": "b795b78f-c0fe-4f79-ab56-ad8e56e504de",
   "metadata": {
    "tags": []
   },
   "outputs": [],
   "source": [
    "# Analyze word frequency for useful keywords\n",
    "all_words = [word for tokens in merged_df['cleaned_text'] for word in tokens]\n",
    "word_freq = Counter(all_words)\n",
    "# word_freq"
   ]
  },
  {
   "cell_type": "code",
   "execution_count": 22,
   "id": "204eec6a-48ec-41bf-ab12-d021cfcc0bf8",
   "metadata": {
    "tags": []
   },
   "outputs": [
    {
     "name": "stdout",
     "output_type": "stream",
     "text": [
      "Most common words:\n",
      "[('sleep', 4501), ('great', 2700), ('good', 2249), ('work', 2241), ('taste', 2207), ('works', 2009), ('melatonin', 1840), ('product', 1787), ('asleep', 1703), ('take', 1652)]\n"
     ]
    }
   ],
   "source": [
    "print(\"Most common words:\")\n",
    "print(word_freq.most_common(10))"
   ]
  },
  {
   "cell_type": "code",
   "execution_count": null,
   "id": "20dc09dc-0c5a-42f9-a342-f2e0deeae1a9",
   "metadata": {},
   "outputs": [],
   "source": []
  }
 ],
 "metadata": {
  "kernelspec": {
   "display_name": "Python 3 (ipykernel)",
   "language": "python",
   "name": "python3"
  },
  "language_info": {
   "codemirror_mode": {
    "name": "ipython",
    "version": 3
   },
   "file_extension": ".py",
   "mimetype": "text/x-python",
   "name": "python",
   "nbconvert_exporter": "python",
   "pygments_lexer": "ipython3",
   "version": "3.11.5"
  }
 },
 "nbformat": 4,
 "nbformat_minor": 5
}
